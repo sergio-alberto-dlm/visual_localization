{
 "cells": [
  {
   "cell_type": "code",
   "execution_count": 3,
   "id": "4966bd3c-d83b-419e-8048-e97c097fdbde",
   "metadata": {},
   "outputs": [],
   "source": [
    "import pandas as pd"
   ]
  },
  {
   "cell_type": "code",
   "execution_count": 4,
   "id": "0c84d653-c225-4528-9e14-87ae2a391b36",
   "metadata": {},
   "outputs": [],
   "source": [
    "path_topk_dinov3 = \"/home/emmanuel/Desktop/crocodl_challenge/experiments/dino/visual_localization/data/top10_dinov3.jsonl\""
   ]
  },
  {
   "cell_type": "code",
   "execution_count": 5,
   "id": "0dd2e5cd-cc94-4607-bf51-6bf6ecd93f9a",
   "metadata": {},
   "outputs": [],
   "source": [
    "df = pd.read_json(path_topk_dinov3, lines=True)"
   ]
  },
  {
   "cell_type": "code",
   "execution_count": 6,
   "id": "bb7e328a-8abb-43a7-88a3-4e8223203301",
   "metadata": {},
   "outputs": [],
   "source": [
    "sample = df.iloc[0]"
   ]
  },
  {
   "cell_type": "code",
   "execution_count": 7,
   "id": "95f31c7b-ff4c-493c-a799-ea2f85260b1a",
   "metadata": {},
   "outputs": [],
   "source": [
    "query_path = sample['query_path']\n",
    "query_topk = sample['topk']\n",
    "query_topk = {d['rank']: d for d in query_topk}"
   ]
  },
  {
   "cell_type": "code",
   "execution_count": 8,
   "id": "fdb9f9e3-3b9a-43ad-9de8-076d5cbc5407",
   "metadata": {},
   "outputs": [],
   "source": [
    "import os\n",
    "\n",
    "vggt_input_ref_paths = [\n",
    "    query_topk[i].get('abs_path')\n",
    "    for i in range(1, 6)\n",
    "]"
   ]
  },
  {
   "cell_type": "code",
   "execution_count": 9,
   "id": "8c949c9a-9805-4ec7-bc26-d20f4de82c17",
   "metadata": {},
   "outputs": [],
   "source": [
    "vggt_input_paths = vggt_input_ref_paths + [query_path]"
   ]
  },
  {
   "cell_type": "code",
   "execution_count": 10,
   "id": "37f0e042-e6af-41ce-ab45-87e76697a315",
   "metadata": {},
   "outputs": [],
   "source": [
    "crocodl_dataset = \"/media/emmanuel/nvme_storage/datasets/crocodl_dataset\""
   ]
  },
  {
   "cell_type": "code",
   "execution_count": 11,
   "id": "73117f5e-ae38-4980-9263-ace44c81b6b7",
   "metadata": {},
   "outputs": [],
   "source": [
    "vggt_input_abspaths = [\n",
    "    os.path.join(crocodl_dataset, img_path)\n",
    "    for img_path in vggt_input_paths\n",
    "]"
   ]
  },
  {
   "cell_type": "code",
   "execution_count": 13,
   "id": "ca54c852-41d5-4bdd-a01f-97b605932f59",
   "metadata": {},
   "outputs": [
    {
     "ename": "ImportError",
     "evalue": "cannot import name 'CudaInference' from 'vggt_ba' (unknown location)",
     "output_type": "error",
     "traceback": [
      "\u001b[0;31m---------------------------------------------------------------------------\u001b[0m",
      "\u001b[0;31mImportError\u001b[0m                               Traceback (most recent call last)",
      "Cell \u001b[0;32mIn[13], line 1\u001b[0m\n\u001b[0;32m----> 1\u001b[0m \u001b[38;5;28;01mfrom\u001b[39;00m\u001b[38;5;250m \u001b[39m\u001b[38;5;21;01mvggt_ba\u001b[39;00m\u001b[38;5;250m \u001b[39m\u001b[38;5;28;01mimport\u001b[39;00m CudaInference \u001b[38;5;28;01mas\u001b[39;00m Vggt, to_point_cloud, bundle_adjustment\n",
      "\u001b[0;31mImportError\u001b[0m: cannot import name 'CudaInference' from 'vggt_ba' (unknown location)"
     ]
    }
   ],
   "source": [
    "from vggt_ba import CudaInference as Vggt, to_point_cloud, bundle_adjustment\n"
   ]
  },
  {
   "cell_type": "code",
   "execution_count": null,
   "id": "b9d336ff-a5b9-48a0-8303-a1a93d0bd516",
   "metadata": {},
   "outputs": [],
   "source": []
  }
 ],
 "metadata": {
  "kernelspec": {
   "display_name": "Python 3 (ipykernel)",
   "language": "python",
   "name": "python3"
  },
  "language_info": {
   "codemirror_mode": {
    "name": "ipython",
    "version": 3
   },
   "file_extension": ".py",
   "mimetype": "text/x-python",
   "name": "python",
   "nbconvert_exporter": "python",
   "pygments_lexer": "ipython3",
   "version": "3.10.18"
  }
 },
 "nbformat": 4,
 "nbformat_minor": 5
}
