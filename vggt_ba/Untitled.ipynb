{
 "cells": [
  {
   "cell_type": "code",
   "execution_count": 1,
   "id": "0efad30b-e1fb-4025-a84e-21a5081c9f39",
   "metadata": {},
   "outputs": [],
   "source": [
    "import pandas as pd"
   ]
  },
  {
   "cell_type": "code",
   "execution_count": 2,
   "id": "28e2ae81-35b4-4b60-abb7-edb8de80a3d1",
   "metadata": {},
   "outputs": [],
   "source": [
    "fpath = \"/home/emmanuel/Desktop/crocodl_challenge/experiments/visual_localization/outputs/query_poses/sessions_map_ios_query_ios.json\""
   ]
  },
  {
   "cell_type": "code",
   "execution_count": 4,
   "id": "dd0451c3-a803-4f71-9abe-24a26c9248e8",
   "metadata": {},
   "outputs": [],
   "source": [
    "df = pd.read_json(fpath)"
   ]
  },
  {
   "cell_type": "code",
   "execution_count": 6,
   "id": "6abaf365-1be8-4704-9577-be7790ff23a6",
   "metadata": {},
   "outputs": [
    {
     "data": {
      "text/plain": [
       "{'error': 0.0006526386000000001,\n",
       " 'pose': [[-0.40101892510000003,\n",
       "   0.49047748090000004,\n",
       "   -0.7737025501,\n",
       "   -6.8469636674],\n",
       "  [0.7710298931, -0.2753528404, -0.5741895948, -8.4122757049],\n",
       "  [-0.49466826960000004, -0.8268086887, -0.2677511072, -9.2993604741],\n",
       "  [0.0, 0.0, 0.0, 1.0]]}"
      ]
     },
     "execution_count": 6,
     "metadata": {},
     "output_type": "execute_result"
    }
   ],
   "source": [
    "df.iloc[0]['pose_est']"
   ]
  },
  {
   "cell_type": "code",
   "execution_count": null,
   "id": "7d7cbefa-ac3b-4b9f-ba1e-b27e0564b2af",
   "metadata": {},
   "outputs": [],
   "source": []
  }
 ],
 "metadata": {
  "kernelspec": {
   "display_name": "Python 3 (ipykernel)",
   "language": "python",
   "name": "python3"
  },
  "language_info": {
   "codemirror_mode": {
    "name": "ipython",
    "version": 3
   },
   "file_extension": ".py",
   "mimetype": "text/x-python",
   "name": "python",
   "nbconvert_exporter": "python",
   "pygments_lexer": "ipython3",
   "version": "3.10.18"
  }
 },
 "nbformat": 4,
 "nbformat_minor": 5
}
